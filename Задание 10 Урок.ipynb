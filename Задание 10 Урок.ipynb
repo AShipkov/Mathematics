{
 "cells": [
  {
   "cell_type": "markdown",
   "metadata": {},
   "source": [
    "# Тема “Ряды”"
   ]
  },
  {
   "cell_type": "markdown",
   "metadata": {},
   "source": [
    "### 1. Исследовать ряд на сходимость, используя признак д’Аламбера:"
   ]
  },
  {
   "cell_type": "markdown",
   "metadata": {},
   "source": [
    "$\\displaystyle \\sum_{n=1}^{\\infty} \\frac{n^n}{(n!)^2}\\\\\\,\n",
    "\\displaystyle \\lim_{n \\to \\infty} \\frac{a_{n + 1}}{a_n} = \\displaystyle \\lim_{n \\to \\infty} \\frac{(n + 1)^{n + 1}}{((n + 1)!)^2} : \\frac{n^n}{(n!)^2} = \\displaystyle \\lim_{n \\to \\infty} \\frac{(n +1)^{n + 1}}{(n + 1)^2 \\cdot n^n} = \\displaystyle \\lim_{n \\to \\infty} \\frac{\\left (\\frac{n +1}{n}\\right)^n}{n + 1} = \\displaystyle \\lim_{n \\to \\infty} \\frac{e}{n + 1} = 0 < 1$"
   ]
  },
  {
   "cell_type": "markdown",
   "metadata": {},
   "source": [
    "### 2. Исследовать ряд на сходимость, используя радикальный признак Коши:"
   ]
  },
  {
   "cell_type": "markdown",
   "metadata": {},
   "source": [
    "$\\displaystyle \\sum_{n=1}^{\\infty} \\frac{n}{2^n}\\\\\\,\n",
    "\\displaystyle \\lim_{n \\to \\infty} \\sqrt[n]{a_n} = \\displaystyle \\lim_{n \\to \\infty} \\sqrt[n]{\\frac{n}{2^n}} =\\displaystyle \\lim_{n \\to \\infty} \\frac{\\sqrt[n]{n}}{2} = \\frac{1}{2} < 1\\\\\\,\n",
    "\\displaystyle \\lim_{n \\to \\infty} \\frac{a_{n + 1}}{a_n} = \\displaystyle \\lim_{n \\to \\infty} \\frac{n + 1}{2^{n + 1}} : \\frac{n}{2^n} = \\displaystyle \\lim_{n \\to \\infty} \\frac{n + 1}{2n} = \\frac{1}{2} <1$"
   ]
  },
  {
   "cell_type": "markdown",
   "metadata": {},
   "source": [
    "### 3. Исследовать ряд на сходимость, используя признак Лейбница:"
   ]
  },
  {
   "cell_type": "markdown",
   "metadata": {},
   "source": [
    "$\\displaystyle \\sum_{n=1}^{\\infty} \\frac{(-1)^n}{n + \\ln{n}}\\\\\\,\n",
    "\\begin{cases} \\displaystyle \\lim_{n \\to \\infty} |a_n| = 0 \\ |a_{n + 1}| < |a_n| \\ \\displaystyle \\sum_{n=1}^{\\infty} \\frac{1}{n + \\ln{n}} \\sim 0 \\left( \\frac{1}{n^1} \\right) \\end{cases}\\\\\\,\n",
    "\\displaystyle \\sum_{n=1}^{\\infty} \\frac{(-1)^n}{n + \\ln{n}} \\text{− сходится условно}$"
   ]
  },
  {
   "cell_type": "markdown",
   "metadata": {},
   "source": [
    "### 4. Исследовать ряд на сходимость, используя признак Раабе:"
   ]
  },
  {
   "cell_type": "markdown",
   "metadata": {},
   "source": [
    "$\\displaystyle \\sum_{n=1}^{\\infty} \\frac{3^n}{2^n}\\\\\\,\n",
    "\\displaystyle \\lim_{n \\to \\infty} n \\left( \\frac{a_n}{a_{n + 1}} - 1 \\right) = \\displaystyle \\lim_{n \\to \\infty} n \\left( \\frac{3^n}{2^n} : \\frac{3^{n + 1}}{2^{n + 1}} - 1 \\right) = \\displaystyle \\lim_{n \\to \\infty} n \\left( - \\frac{1}{3} \\right) = -\\infty < 1\\\\\\,\n",
    "\\displaystyle \\lim_{n \\to \\infty} \\frac{a_{n + 1}}{a_n} = \\displaystyle \\lim_{n \\to \\infty} \\frac{3^{n + 1}}{2^{n + 1}} : \\frac{3^n}{2^n} = \\frac{3}{2} > 1$"
   ]
  },
  {
   "cell_type": "markdown",
   "metadata": {},
   "source": [
    "### 5. Разложить функцию по Тейлору в единице:"
   ]
  },
  {
   "cell_type": "markdown",
   "metadata": {},
   "source": [
    "$f(x) = \\ln{(16x^2)}\\\\\\,\n",
    "\\ln{(16x^2)} = \\frac{\\ln{16}}{0!}(x - 1)^0 + \\frac{2}{1!}(x - 2)^1 - \\frac{2}{2!}(x - 1)^2 + \\frac{2 \\cdot 2}{3!}(x - 1)^3 - \\frac{2 \\cdot 3!}{4!}(x - 1)^4 +\\cdots = \\ln{16} + 2 \\displaystyle \\sum_{n=1}^{\\infty} (-1)^{n - 1} \\frac{(x - 1)^n}{n}\\\\\\,\n",
    "(\\ln{(16x^2)})' = \\frac{2}{x}\\\\\\,\n",
    "(\\ln{(16x^2)})'' = - \\frac{2}{x^2}\\\\\\,\n",
    "(\\ln{(16x^2)})''' = \\frac{2 \\cdot 2}{x^3}\\\\\\,\n",
    "(\\ln{(16x^2)})^{IV} = - \\frac{2 \\cdot 2 \\cdot 3}{x^4}$"
   ]
  },
  {
   "cell_type": "markdown",
   "metadata": {},
   "source": [
    "### 6. * Дана функция: $f(x) = x^2$"
   ]
  },
  {
   "cell_type": "markdown",
   "metadata": {},
   "source": [
    "#### a.  Разложить функцию в ряд Фурье по косинусам на отрезке $x \\in [-2; 0]$"
   ]
  },
  {
   "cell_type": "markdown",
   "metadata": {},
   "source": [
    "$a_0 = \\frac{1}{2} \\int\\limits_{-2}^{0} f(x) {\\mathrm dx} = \\frac{1}{2}\\int\\limits_{-2}^{0} x^2{\\mathrm dx} = \\frac{1}{2} \\left. \\left( \\frac{x^3}{3} \\right) \\right|{-2}^{0} = \\frac{1}{2} - (0-(-\\frac{8}{3} ))= \\frac{4}{3}\\\\\\,\n",
    "a_n = \\frac{1}{2}\\int\\limits_{-2}^{0}{x^{2}*cos(\\frac{\\pi*n*x}{2})  dx} = \\frac{1}{2}\\int\\limits_{-2}^{0}{x^{2}*cos(\\pi*n*\\frac{x}{2}) dx} = \\frac{1}{2}(\\frac{2*x^{2}*sin(\\pi*n*\\frac{x}{2})}{\\pi*n}+\\frac{8*x*cos(\\pi*n*\\frac{x}{2})}{\\pi^{2}*n^{2}}-\\frac{16*sin(\\pi*n*\\frac{x}{2})}{\\pi^{3}*n^{3}})|{-2}^{0} =$"
   ]
  },
  {
   "cell_type": "markdown",
   "metadata": {},
   "source": [
    "$= - \\frac{1}{2}(0-(-8*\\frac{sin(\\pi*n)}{\\pi*n}-16*\\frac{cos(\\pi*n)}{\\pi^{2}*n^{2}}+16*\\frac{sin(\\pi*n)}{\\pi^{3}*n^{3}}))=8*\\frac{(-1)^{n}}{\\pi^{2}*n^{2}}$"
   ]
  },
  {
   "cell_type": "markdown",
   "metadata": {},
   "source": [
    "$b{n}=\\frac{1}{2}\\int\\limits_{-2}^{0}{x^{2}*sin(\\frac{\\pi*n*x}{2}) dx}=\\frac{1}{2}\\int\\limits_{-2}^{0}{x^{2}*sin(\\pi*n*\\frac{x}{2}) dx} =\\frac{1}{2}*(\\frac{16}{\\pi^{3}*n^{3}}-(-8*\\frac{cos(\\pi*n)}{\\pi*n}+16*\\frac{sin(\\pi*n)}{\\pi^{2}*n^{2}}+16*\\frac{cos(\\pi*n)}{\\pi^{3}*n^{3}})) = 4*\\frac{(-1)^{n}*\\pi^{2}*n^{2}-2*(-1)^{n}+2}{\\pi^{3}*n^{3}}$"
   ]
  },
  {
   "cell_type": "markdown",
   "metadata": {},
   "source": [
    "Получаем:"
   ]
  },
  {
   "cell_type": "markdown",
   "metadata": {},
   "source": [
    "$f(x) = \\frac{2}{3}+\\sum{(8*\\frac{(-1)^{n}}{\\pi^{2}*n^{2}}*cos(\\pi*n*\\frac{x}{2})+4*\\frac{(-1)^{n}*\\pi^{2}*n^{2}-2*(-1)^{n}+2}{\\pi^{3}*n^{3}}*sin(\\pi*n*\\frac{x}{2}))}$"
   ]
  },
  {
   "cell_type": "markdown",
   "metadata": {},
   "source": [
    "Примечение:"
   ]
  },
  {
   "cell_type": "markdown",
   "metadata": {},
   "source": [
    "$cos(πn) = (-1)^n$"
   ]
  },
  {
   "cell_type": "markdown",
   "metadata": {},
   "source": [
    "$cos(2πn) = 1$"
   ]
  },
  {
   "cell_type": "markdown",
   "metadata": {},
   "source": [
    "$sin(πn) = 0$"
   ]
  },
  {
   "cell_type": "markdown",
   "metadata": {},
   "source": [
    "#### b. Построить график функции и ее разложения."
   ]
  },
  {
   "cell_type": "markdown",
   "metadata": {},
   "source": [
    "https://www.desmos.com/calculator/bhw708whhx?lang=ru"
   ]
  },
  {
   "cell_type": "markdown",
   "metadata": {},
   "source": [
    "# Тема “Понятие об интеграле”"
   ]
  },
  {
   "cell_type": "markdown",
   "metadata": {},
   "source": [
    "1) $\\int(2x^2-2x-1+sinx-cosx+lnx+e^x)dx=\\frac{2x^3}{3}-x^2-2x-sinx-cosx+xlnx+e^x+C$"
   ]
  },
  {
   "cell_type": "markdown",
   "metadata": {},
   "source": [
    "2) $\\int(2x+6xz^2-5x^2y-3lnz)dx=-\\frac{5yx^3}{3}+\\frac{(6z^2+2)x}{2}-3xlnz$"
   ]
  },
  {
   "cell_type": "markdown",
   "metadata": {},
   "source": [
    "3) $\\int\\limits_{0}^{\\pi}{(3\\cdot x^{2})\\cdot sin(2\\cdot x)} dx = (-3\\cdot x^{2}\\cdot \\frac{cos(2\\cdot x)}{2}+3\\cdot x\\cdot \\frac{sin(2\\cdot x)}{2}+3\\cdot \\frac{cos(2\\cdot x)}{4})|{0}^{\\pi}$"
   ]
  },
  {
   "cell_type": "markdown",
   "metadata": {},
   "source": [
    "$F(\\pi) = \\frac{3}{4}-3\\cdot \\frac{\\pi^{2}}{2}$"
   ]
  },
  {
   "cell_type": "markdown",
   "metadata": {},
   "source": [
    "$F(0) = \\frac{3}{4}$"
   ]
  },
  {
   "cell_type": "markdown",
   "metadata": {},
   "source": [
    "$I = \\frac{3}{4}-3\\cdot \\frac{\\pi^{2}}{2} - (\\frac{3}{4}) = -3\\cdot \\frac{\\pi^{2}}{2}$"
   ]
  },
  {
   "cell_type": "markdown",
   "metadata": {},
   "source": [
    "4)$\\int\\frac{1}{\\sqrt{x+1}}dx=C+2\\sqrt{x+1}$"
   ]
  },
  {
   "cell_type": "code",
   "execution_count": null,
   "metadata": {},
   "outputs": [],
   "source": []
  }
 ],
 "metadata": {
  "kernelspec": {
   "display_name": "Python 3",
   "language": "python",
   "name": "python3"
  },
  "language_info": {
   "codemirror_mode": {
    "name": "ipython",
    "version": 3
   },
   "file_extension": ".py",
   "mimetype": "text/x-python",
   "name": "python",
   "nbconvert_exporter": "python",
   "pygments_lexer": "ipython3",
   "version": "3.7.6"
  }
 },
 "nbformat": 4,
 "nbformat_minor": 4
}
