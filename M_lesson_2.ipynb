{
 "cells": [
  {
   "cell_type": "markdown",
   "metadata": {},
   "source": [
    "# Тема “Введение в математических анализ”"
   ]
  },
  {
   "cell_type": "markdown",
   "metadata": {},
   "source": [
    "## 1. Как относятся друг к другу множество и последовательность? (в ответе использовать слова типа: часть, целое, общее, частное, родитель, дочерний субъект и т.д.)"
   ]
  },
  {
   "cell_type": "markdown",
   "metadata": {},
   "source": [
    "Мно́жество — это совокупность, собрание каких-либо объектов и обладают общими для всех их характеристическим свойством.\n",
    "Последовательность — набор элементов некоторого множества.\n",
    "Последовательность, является частью некоторого множества объектов. Последовательность является результатом последовательного выбора элементов заданного множества."
   ]
  },
  {
   "cell_type": "markdown",
   "metadata": {},
   "source": [
    "## 2. Прочитать высказывания математической логики, построить их отрицания и установить истинность."
   ]
  },
  {
   "cell_type": "markdown",
   "metadata": {},
   "source": [
    "$\\forall y \\in [0;1]:sgn(y)=1$\n",
    "\n",
    "$\\exists x \\in [0;1]:sgn(x)\\neq 1$"
   ]
  },
  {
   "cell_type": "markdown",
   "metadata": {},
   "source": [
    "Для любого y, принадлещего интервалу от 0 до 1 включительно, кусочно-постоянная функция действительного аргумента принимает значение 1.\n",
    "Высказывание ложно."
   ]
  },
  {
   "attachments": {
    "image.png": {
     "image/png": "[encoded data removed]"
    }
   },
   "cell_type": "markdown",
   "metadata": {},
   "source": [
    "![image.png](attachment:image.png)"
   ]
  },
  {
   "attachments": {
    "image.png": {
     "image/png": "[encoded data removed]"
    }
   },
   "cell_type": "markdown",
   "metadata": {},
   "source": [
    "![image.png](attachment:image.png)"
   ]
  },
  {
   "cell_type": "markdown",
   "metadata": {},
   "source": [
    "Для любого n больше 2, принадлежащего множеству натуральных чисел, существуют x, y, z, принадлежащие множеству натуральных чисел, для которых выполняется раветство $x^n = y^n + z^n$.\n",
    "Высказывание истинно."
   ]
  },
  {
   "attachments": {
    "image.png": {
     "image/png": "[encoded data removed]"
    }
   },
   "cell_type": "markdown",
   "metadata": {},
   "source": [
    "![image.png](attachment:image.png)"
   ]
  },
  {
   "attachments": {
    "image.png": {
     "image/png": "[encoded data removed]"
    }
   },
   "cell_type": "markdown",
   "metadata": {},
   "source": [
    "![image.png](attachment:image.png)"
   ]
  },
  {
   "cell_type": "markdown",
   "metadata": {},
   "source": [
    "Для любого x, принадлежащего множеству действительных чисел, существует последовательность X, принадлежащая множеству действительных чисел, для которой выполняется неравенство X > x.\n",
    "Высказывание ложно."
   ]
  },
  {
   "attachments": {
    "image.png": {
     "image/png": "[encoded data removed]"
    }
   },
   "cell_type": "markdown",
   "metadata": {},
   "source": [
    "![image.png](attachment:image.png)"
   ]
  },
  {
   "attachments": {
    "image.png": {
     "image/png": "[encoded data removed]"
    }
   },
   "cell_type": "markdown",
   "metadata": {},
   "source": [
    "![image.png](attachment:image.png)"
   ]
  },
  {
   "cell_type": "markdown",
   "metadata": {},
   "source": [
    "Для любого x, принадлежащего множеству комплексных чисел, не существует y, принадлежащего множеству комплексных чисел, для которого выполняется неравенство x > y или x < y.\n",
    "Высказывание истинно."
   ]
  },
  {
   "attachments": {
    "image.png": {
     "image/png": "[encoded data removed]"
    }
   },
   "cell_type": "markdown",
   "metadata": {},
   "source": [
    "![image.png](attachment:image.png)"
   ]
  },
  {
   "attachments": {
    "image.png": {
     "image/png": "[encoded data removed]"
    }
   },
   "cell_type": "markdown",
   "metadata": {},
   "source": [
    "![image.png](attachment:image.png)"
   ]
  },
  {
   "cell_type": "markdown",
   "metadata": {},
   "source": [
    "Для любого y, принадлежащего интервалу от 0 до $\\frac{\\pi}{2}$ включительно, существует $\\epsilon$ больше 0, для которого выполняется неравенство "
   ]
  },
  {
   "attachments": {
    "image.png": {
     "image/png": "[encoded data removed]"
    }
   },
   "cell_type": "markdown",
   "metadata": {},
   "source": [
    "![image.png](attachment:image.png)"
   ]
  },
  {
   "cell_type": "markdown",
   "metadata": {},
   "source": [
    "Высказывание ложно."
   ]
  },
  {
   "attachments": {
    "image.png": {
     "image/png": "[encoded data removed]"
    }
   },
   "cell_type": "markdown",
   "metadata": {},
   "source": [
    "![image.png](attachment:image.png)"
   ]
  },
  {
   "attachments": {
    "image.png": {
     "image/png": "[encoded data removed]"
    }
   },
   "cell_type": "markdown",
   "metadata": {},
   "source": [
    "![image.png](attachment:image.png)"
   ]
  },
  {
   "cell_type": "markdown",
   "metadata": {},
   "source": [
    "Для любого y, принадлежащего интервалу от 0 включительно до $\\pi $ невключительно, существует $\\epsilon$ больше 0, для которого выполняется неравенство"
   ]
  },
  {
   "attachments": {
    "image.png": {
     "image/png": "[encoded data removed]"
    }
   },
   "cell_type": "markdown",
   "metadata": {},
   "source": [
    "![image.png](attachment:image.png)"
   ]
  },
  {
   "cell_type": "markdown",
   "metadata": {},
   "source": [
    "Высказывание истино."
   ]
  },
  {
   "cell_type": "markdown",
   "metadata": {},
   "source": [
    "$\\exists x: x \\notin \\{\\mathbb{N, Z, Q, R, C}\\}$\n",
    "$\\forall x: x \\in \\{\\mathbb{N, Z, Q, R, C}\\}$"
   ]
  },
  {
   "cell_type": "markdown",
   "metadata": {},
   "source": [
    "Для любого x, x не является элементом множества натуральных, целых, рациональных, действительных и комплексных чисел.\n",
    "Высказывание ложно."
   ]
  },
  {
   "cell_type": "markdown",
   "metadata": {},
   "source": [
    "# Тема “Множество”"
   ]
  },
  {
   "cell_type": "markdown",
   "metadata": {},
   "source": [
    "## 1. Даны три множества a,b и с. Необходимо выполнить все изученные виды бинарных операций над всеми комбинациями множеств."
   ]
  },
  {
   "cell_type": "markdown",
   "metadata": {},
   "source": [
    "$A = \\{1, 2, test, 8\\}$\n",
    "\n",
    "$B = \\{cat, 5, 1, 10, dog\\}$\n",
    "\n",
    "$C = \\{test, 2 , 1, 7\\}$\n",
    "\n",
    "Пересечение\n",
    "\n",
    "$A \\cap B \\cap C = \\{1\\}$\n",
    "\n",
    "Объединение\n",
    "\n",
    "$A \\cup B \\cup C = \\{1, 2, test, 8, cat, 5, 1, 10, dog, 7\\}$\n",
    "\n",
    "Разность\n",
    "\n",
    "$A \\setminus B \\setminus C = \\{8\\}$\n",
    "\n",
    "Симметричной разность\n",
    "\n",
    "$A \\Delta B \\Delta C = \\{8, 10, 5, cat, dog, 7\\}$\n",
    "\n",
    "Декартово произведение\n",
    "\n",
    "$A \\times B \\times C = \\{(1, cat, test), (2, 5, 2)\\dots \\}$"
   ]
  },
  {
   "cell_type": "markdown",
   "metadata": {},
   "source": [
    "## 2. *Выполнить задание 1 на языке Python"
   ]
  },
  {
   "cell_type": "code",
   "execution_count": 23,
   "metadata": {},
   "outputs": [],
   "source": [
    "A = {1, 2, 'red', 8}\n",
    "B = {'white', 5, 1, 10, 'cat'}\n",
    "C = {'fish', 2 , 1, 7}"
   ]
  },
  {
   "cell_type": "code",
   "execution_count": 24,
   "metadata": {},
   "outputs": [
    {
     "data": {
      "text/plain": [
       "{1}"
      ]
     },
     "execution_count": 24,
     "metadata": {},
     "output_type": "execute_result"
    }
   ],
   "source": [
    "A & B & C"
   ]
  },
  {
   "cell_type": "code",
   "execution_count": 25,
   "metadata": {},
   "outputs": [
    {
     "data": {
      "text/plain": [
       "{1, 10, 2, 5, 7, 8, 'cat', 'fish', 'red', 'white'}"
      ]
     },
     "execution_count": 25,
     "metadata": {},
     "output_type": "execute_result"
    }
   ],
   "source": [
    "A | B | C"
   ]
  },
  {
   "cell_type": "code",
   "execution_count": 26,
   "metadata": {},
   "outputs": [
    {
     "data": {
      "text/plain": [
       "{8, 'red'}"
      ]
     },
     "execution_count": 26,
     "metadata": {},
     "output_type": "execute_result"
    }
   ],
   "source": [
    "A - B - C"
   ]
  },
  {
   "cell_type": "code",
   "execution_count": 27,
   "metadata": {},
   "outputs": [
    {
     "data": {
      "text/plain": [
       "{10, 5, 7, 8, 'cat', 'fish', 'red', 'white'}"
      ]
     },
     "execution_count": 27,
     "metadata": {},
     "output_type": "execute_result"
    }
   ],
   "source": [
    "(A - B - C) | (B - C - A) | (C - A - B)"
   ]
  },
  {
   "cell_type": "code",
   "execution_count": 28,
   "metadata": {},
   "outputs": [
    {
     "name": "stdout",
     "output_type": "stream",
     "text": [
      "(8, 1, 1) (8, 1, 2) (8, 1, 'fish') (8, 1, 7) (8, 5, 1) (8, 5, 2) (8, 5, 'fish') (8, 5, 7) (8, 10, 1) (8, 10, 2) (8, 10, 'fish') (8, 10, 7) (8, 'white', 1) (8, 'white', 2) (8, 'white', 'fish') (8, 'white', 7) (8, 'cat', 1) (8, 'cat', 2) (8, 'cat', 'fish') (8, 'cat', 7) (1, 1, 1) (1, 1, 2) (1, 1, 'fish') (1, 1, 7) (1, 5, 1) (1, 5, 2) (1, 5, 'fish') (1, 5, 7) (1, 10, 1) (1, 10, 2) (1, 10, 'fish') (1, 10, 7) (1, 'white', 1) (1, 'white', 2) (1, 'white', 'fish') (1, 'white', 7) (1, 'cat', 1) (1, 'cat', 2) (1, 'cat', 'fish') (1, 'cat', 7) (2, 1, 1) (2, 1, 2) (2, 1, 'fish') (2, 1, 7) (2, 5, 1) (2, 5, 2) (2, 5, 'fish') (2, 5, 7) (2, 10, 1) (2, 10, 2) (2, 10, 'fish') (2, 10, 7) (2, 'white', 1) (2, 'white', 2) (2, 'white', 'fish') (2, 'white', 7) (2, 'cat', 1) (2, 'cat', 2) (2, 'cat', 'fish') (2, 'cat', 7) ('red', 1, 1) ('red', 1, 2) ('red', 1, 'fish') ('red', 1, 7) ('red', 5, 1) ('red', 5, 2) ('red', 5, 'fish') ('red', 5, 7) ('red', 10, 1) ('red', 10, 2) ('red', 10, 'fish') ('red', 10, 7) ('red', 'white', 1) ('red', 'white', 2) ('red', 'white', 'fish') ('red', 'white', 7) ('red', 'cat', 1) ('red', 'cat', 2) ('red', 'cat', 'fish') ('red', 'cat', 7)\n"
     ]
    }
   ],
   "source": [
    "import itertools\n",
    "print(*itertools.product(A, B, C))"
   ]
  },
  {
   "cell_type": "markdown",
   "metadata": {},
   "source": [
    "## Тема 3 “Последовательность”"
   ]
  },
  {
   "cell_type": "markdown",
   "metadata": {},
   "source": [
    "### 1. Даны 4 последовательности. Необходимо:"
   ]
  },
  {
   "cell_type": "markdown",
   "metadata": {},
   "source": [
    "a. исследовать их на монотонность;\n",
    "b. исследовать на ограниченность;\n",
    "c. найти пятый по счету член."
   ]
  },
  {
   "attachments": {
    "image.png": {
     "image/png": "[encoded data removed]"
    }
   },
   "cell_type": "markdown",
   "metadata": {},
   "source": [
    "![image.png](attachment:image.png)"
   ]
  },
  {
   "cell_type": "markdown",
   "metadata": {},
   "source": [
    "a. монотонная последовательность\n",
    "b. возрастающая\n",
    "c. $27$"
   ]
  },
  {
   "attachments": {
    "image.png": {
     "image/png": "[encoded data removed]"
    }
   },
   "cell_type": "markdown",
   "metadata": {},
   "source": [
    "![image.png](attachment:image.png)"
   ]
  },
  {
   "cell_type": "markdown",
   "metadata": {},
   "source": [
    "a. монотонная последовательность\n",
    "b. возрастающая\n",
    "c. $-\\frac{1}{5}$"
   ]
  },
  {
   "attachments": {
    "image.png": {
     "image/png": "[encoded data removed]"
    }
   },
   "cell_type": "markdown",
   "metadata": {},
   "source": [
    "![image.png](attachment:image.png)"
   ]
  },
  {
   "cell_type": "markdown",
   "metadata": {},
   "source": [
    "a. монотонная последовательность\n",
    "b. возрастающая\n",
    "c. $\\sqrt{10} - 1 \\approx 2.162$"
   ]
  },
  {
   "attachments": {
    "image.png": {
     "image/png": "[encoded data removed]"
    }
   },
   "cell_type": "markdown",
   "metadata": {},
   "source": [
    "![image.png](attachment:image.png)"
   ]
  },
  {
   "cell_type": "markdown",
   "metadata": {},
   "source": [
    "a. нестрогая монотонность\n",
    "b. нестрого убывает\n",
    "c. $1\\frac{1}{25}$"
   ]
  },
  {
   "cell_type": "markdown",
   "metadata": {},
   "source": [
    "## 2. Найти 12-й член заданной неявно последовательности"
   ]
  },
  {
   "cell_type": "markdown",
   "metadata": {},
   "source": [
    "$a_1 =128, a_{n+1} - a_n =6$\n",
    "\n",
    "$a_n = 128 + 5n$\n",
    "\n",
    "$a_{12} = 128 +5\\times 12 = 194$"
   ]
  },
  {
   "cell_type": "code",
   "execution_count": 29,
   "metadata": {},
   "outputs": [
    {
     "name": "stdout",
     "output_type": "stream",
     "text": [
      "194\n"
     ]
    }
   ],
   "source": [
    "a1=128\n",
    "for _ in range(11):\n",
    "    a1 += 6\n",
    "print(a1)"
   ]
  },
  {
   "attachments": {},
   "cell_type": "markdown",
   "metadata": {},
   "source": [
    "## 3. *На языке Python предложить алгоритм вычисляющий численно предел с точностью $\\epsilon = 10^{-7}$ $\\lim\\limits_{n \\to +\\infty} \\frac{n}{\\sqrt[n]{n!}}$"
   ]
  },
  {
   "cell_type": "code",
   "execution_count": 34,
   "metadata": {},
   "outputs": [],
   "source": [
    "from math import factorial\n",
    "from decimal import Decimal, getcontext\n",
    "getcontext().prec = 10"
   ]
  },
  {
   "cell_type": "code",
   "execution_count": null,
   "metadata": {},
   "outputs": [],
   "source": [
    "%%time\n",
    "n = 1\n",
    "e = 1e-6\n",
    "delta = 1\n",
    "s_prev = 0\n",
    "while delta > e:\n",
    "    s = Decimal(n) / (Decimal(factorial(n)) ** Decimal(1/n))\n",
    "    delta = s - s_prev\n",
    "    s_prev = s\n",
    "    n += 1\n",
    "    \n",
    "print(f' n = {n}, \\n delta = {delta}')"
   ]
  }
 ],
 "metadata": {
  "kernelspec": {
   "display_name": "Python 3",
   "language": "python",
   "name": "python3"
  },
  "language_info": {
   "codemirror_mode": {
    "name": "ipython",
    "version": 3
   },
   "file_extension": ".py",
   "mimetype": "text/x-python",
   "name": "python",
   "nbconvert_exporter": "python",
   "pygments_lexer": "ipython3",
   "version": "3.7.6"
  }
 },
 "nbformat": 4,
 "nbformat_minor": 4
}
