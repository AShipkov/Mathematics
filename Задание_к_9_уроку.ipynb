{
 "cells": [
  {
   "cell_type": "markdown",
   "metadata": {},
   "source": [
    "### Исследовать функцию на условный экстремум"
   ]
  },
  {
   "cell_type": "markdown",
   "metadata": {},
   "source": [
    "### $1. U = 3 -8x + 6y$, если $x^2 + y^2 = 36$"
   ]
  },
  {
   "cell_type": "markdown",
   "metadata": {},
   "source": [
    "$L (\\lambda_1, x, y) = 3 - 8x + 6y + \\lambda_1 \\cdot (x^2 + y^2 - 36)$"
   ]
  },
  {
   "cell_type": "markdown",
   "metadata": {},
   "source": [
    "$\\begin{cases}\n",
    "      L'_x = -8 + \\lambda_1 \\cdot 2x = 0\\\\\\,\n",
    "      L'_y = 6 + \\lambda_1 \\cdot 2y = 0\\\\\\,\n",
    "      L'_{\\lambda_1} = x^2 + y^2 - 36\n",
    "    \\end{cases}$"
   ]
  },
  {
   "cell_type": "markdown",
   "metadata": {},
   "source": [
    "$\\begin{cases}\n",
    "    x = \\frac{4}{\\lambda_1} \\\\\\,\n",
    "    y = -\\frac{3}{\\lambda_1} \\\\\\,\n",
    "    \\frac{16}{\\lambda_1^2} + \\frac{9}{\\lambda_1^2} = 36\n",
    "    \\end{cases}$"
   ]
  },
  {
   "cell_type": "markdown",
   "metadata": {},
   "source": [
    "$\\begin{cases}\n",
    "    x = \\frac{4}{\\lambda_1} \\\\\\,\n",
    "    y = -\\frac{3}{\\lambda_1} \\\\\\,\n",
    "    \\lambda_1 = \\pm \\frac{5}{6}\\\n",
    "    \\end{cases}$"
   ]
  },
  {
   "cell_type": "markdown",
   "metadata": {},
   "source": [
    "$\\left(\\frac{5}{6}, \\frac{24}{5}, -\\frac{18}{5}\\right), \\left(-\\frac{5}{6}, -\\frac{24}{5}, \\frac{18}{5}\\right)$"
   ]
  },
  {
   "cell_type": "markdown",
   "metadata": {},
   "source": [
    "$ L''_{xx} = 2\\lambda_1 \\\\\\,\n",
    "L''_{yy} = 2\\lambda_1 \\\\\\,\n",
    "L''_{\\lambda_1\\lambda_1} = 0 \\\\\\,\n",
    "L''_{xy} = 0 \\\\\\,\n",
    "L''_{x\\lambda_1} = 2x \\\\\\,\n",
    "L''_{y\\lambda_1} = 2y$"
   ]
  },
  {
   "cell_type": "markdown",
   "metadata": {},
   "source": [
    "$\\begin{pmatrix}\n",
    "    L''_{\\lambda_1\\lambda_1} & L''_{\\lambda_1 x} & L''_{\\lambda_1 y} \\\\\\,\n",
    "    L''_{x \\lambda_1} & L''_{xx} & L''_{xy} \\\\\\,\n",
    "    L''_{y \\lambda_1} & L''{yx} & L''{yy}\n",
    "    \\end{pmatrix} =\n",
    "    \\begin{pmatrix}\n",
    "    0 & 2x & 2y\\\\\\,\n",
    "    2x & 2\\lambda_1 & 0\\\\\\,\n",
    "    2y & 0 & 2\\lambda_1\\,\n",
    "    \\end{pmatrix} = -8 \\lambda_1(x^2+y^2)$"
   ]
  },
  {
   "cell_type": "markdown",
   "metadata": {},
   "source": [
    "$\\left(\\frac{5}{6}, \\frac{24}{5}, -\\frac{18}{5}\\right),\\Delta_1 = -240, \\Delta_1 < 0  \\implies \\text{точка минимума}$"
   ]
  },
  {
   "cell_type": "markdown",
   "metadata": {},
   "source": [
    "$\\left(-\\frac{5}{6}, -\\frac{24}{5}, \\frac{18}{5}\\right), \\Delta_2 = 240, \\Delta_2 > 0  \\implies \\text{точка максимума}$"
   ]
  },
  {
   "cell_type": "markdown",
   "metadata": {},
   "source": [
    "### $2. U =2x^2 + 12xy +32y^2 + 15$, если $x^2 + 16y^2 =64$"
   ]
  },
  {
   "cell_type": "markdown",
   "metadata": {},
   "source": [
    "$L(\\lambda_1, x, y) = 2x^2 + 12xy +32y^2 + 15 + \\lambda_1 \\cdot (x^2 + 16y^2  - 64)$"
   ]
  },
  {
   "cell_type": "markdown",
   "metadata": {},
   "source": [
    "$\\begin{cases}\n",
    "    L'_x = 4x + 12y + 2x \\lambda_1 = 0 \\\\\\,\n",
    "    L'_y = 12x + 64y + 32y\\lambda_1 = 0 \\\\\\,\n",
    "    L'_{\\lambda_1} = x^2 + 16y^2  - 64 = 0\n",
    "    \\end{cases}$"
   ]
  },
  {
   "cell_type": "markdown",
   "metadata": {},
   "source": [
    "$\\begin{cases}\n",
    "    \\lambda_1 = - \\frac{2x + 6y}{x} \\\\\\,\n",
    "    \\lambda_1 = - \\frac{3x + 16y}{8y} \\\\\\,\n",
    "    x^2 +16y^2 = 64\n",
    "    \\end{cases}$"
   ]
  },
  {
   "cell_type": "markdown",
   "metadata": {},
   "source": [
    "$\\begin{cases}\\\n",
    "    \\lambda_1 = - \\frac{2x + 6y}{x} \\\\\\,\n",
    "    16xy +48y^2 = 3x^2 + 16xy \\\\\\,\n",
    "    x^2 +16y^2 = 64\n",
    "    \\end{cases}$"
   ]
  },
  {
   "cell_type": "markdown",
   "metadata": {},
   "source": [
    "$\\begin{cases}\n",
    "    \\lambda_1 = - \\frac{2x + 6y}{x} \\\\\\,\n",
    "    16y^2 = x^2 \\\\\\,\n",
    "    x^2 + x^2 = 64\n",
    "    \\end{cases}$"
   ]
  },
  {
   "cell_type": "markdown",
   "metadata": {},
   "source": [
    "$\\begin{array}{|2}\n",
    "    \\left(- \\frac{7}{2}, 4\\sqrt{2}, \\sqrt{2} \\right) \\\\\\,\n",
    "    \\left(- \\frac{1}{2}, 4\\sqrt{2}, -\\sqrt{2} \\right) \\\\\\,\n",
    "    \\left(- \\frac{1}{2}, -4\\sqrt{2}, \\sqrt{2} \\right) \\\\\\,\n",
    "    \\left(- \\frac{7}{2}, -4\\sqrt{2}, -\\sqrt{2} \\right)\n",
    "    \\end{array}$"
   ]
  },
  {
   "cell_type": "markdown",
   "metadata": {},
   "source": [
    "$L''_{xx} = 2\\lambda_1 + 4\\\\\\,\n",
    "    L''_{yy} =32\\lambda_1 + 64\\\\\\,\n",
    "    L''_{\\lambda_1\\lambda_1} = 0\\\\\\,\n",
    "    L''_{xy} = 12\\\\\\,\n",
    "    L''_{x\\lambda_1} = 2x\\\\\\,\n",
    "    L''_{y\\lambda_1} = 32y$"
   ]
  },
  {
   "cell_type": "markdown",
   "metadata": {},
   "source": [
    "$\\begin{pmatrix}\n",
    "    L''_{\\lambda_1\\lambda_1} & L''_{\\lambda_1 x} & L''_{\\lambda_1 y} \\\\\\,\n",
    "    L''_{x \\lambda_1} & L''_{xx} & L''_{xy} \\\\\\,\n",
    "    L''_{y \\lambda_1} & L''{yx} & L''{yy}\n",
    "    \\end{pmatrix} =\n",
    "    \\begin{pmatrix}\n",
    "    0 & 2x & 32y\\\\\\,\n",
    "    2x & 2\\lambda_1 + 4 & 12\\\\\\,\n",
    "    32y & 12 & 32\\lambda_1 + 64\n",
    "    \\end{pmatrix}$"
   ]
  },
  {
   "cell_type": "markdown",
   "metadata": {},
   "source": [
    "$\\begin{vmatrix}\n",
    "    0 & 2x & 32y\\\\\\,\n",
    "    2x & 2\\lambda_1 + 4 & 12\\\\\\,\n",
    "    32y & 12 & 32\\lambda_1 + 64\n",
    "    \\end{vmatrix} =$"
   ]
  },
  {
   "cell_type": "markdown",
   "metadata": {},
   "source": [
    "$-128 x^2 \\lambda_1-256x^2 + 1536xy - 2048y^2\\lambda_1 -4096y^2 = -256(x^2 + 16y^2) - 128\\lambda_1(x^2 + 16y^2) + 1536xy = -256 \\cdot 64 - 128\\lambda_1 \\cdot 64 + 1536xy = -16384 - 8192\\lambda_1 + 1536xy$"
   ]
  },
  {
   "cell_type": "markdown",
   "metadata": {},
   "source": [
    "$\\left(- \\frac{7}{2}, 4\\sqrt{2}, \\sqrt{2} \\right),\\Delta_1 = 24576, \\Delta_1 > 0  \\implies \\text{точка максимума}\\\\\\,\n",
    "    \\left(- \\frac{1}{2}, 4\\sqrt{2}, -\\sqrt{2} \\right),\\Delta_1 = -24576, \\Delta_1 < 0  \\implies \\text{точка минимума}\\\\\\,\n",
    "    \\left(- \\frac{1}{2}, -4\\sqrt{2}, \\sqrt{2} \\right),\\Delta_1 = -24576, \\Delta_1 < 0  \\implies \\text{точка минимума}\\\\\\,\n",
    "    \\left(- \\frac{7}{2}, -4\\sqrt{2}, -\\sqrt{2} \\right),\\Delta_1 = 24576, \\Delta_1 > 0  \\implies \\text{точка максимума}$"
   ]
  },
  {
   "cell_type": "markdown",
   "metadata": {},
   "source": [
    "#### 3. Найти производную функции $U = x^2 + y^2 + z^2$ по направлению вектора $\\vec{c}(−9, 8, −12)$ в точку M(8; −12; 9)."
   ]
  },
  {
   "cell_type": "markdown",
   "metadata": {},
   "source": [
    "$U'_x =2x$\n",
    "\n",
    "$U'_y = 2y$\n",
    "\n",
    "$U'_z = 2z$\n",
    "\n",
    "$\\mathrm{grad}\\ U = (2x, 2y, 2z)$\n",
    "\n",
    "$\\mathrm{grad}\\ U |_{(8, -12, 9)} = (16, -24, 18)$\n",
    "\n",
    "$|\\vec{c}| = \\sqrt{(-9)^2 + 8^2 + (-12)^2} = 17$\n",
    "\n",
    "$\\vec{c_0} = \\frac{\\vec{c}}{|\\vec{c}|} = (-\\frac{9}{17},\\frac{8}{17}, -\\frac{12}{17})$\n",
    "\n",
    "$\\mathrm{grad}\\ U'\\vec{c}|{(8, -12, 9)} = 16 \\cdot (-\\frac{9}{17}) - 24 \\cdot \\frac{8}{17} + 18 \\cdot (-\\frac{12}{17}) = -\\frac{552}{17}$"
   ]
  },
  {
   "cell_type": "markdown",
   "metadata": {},
   "source": [
    "#### 4. Найти производную функции $U = e^{x^2 + y^2 +z^2}$ по направлению вектора $\\vec{d} = 4, −13, −16$ в точку $L(−16; 4; −13)$."
   ]
  },
  {
   "cell_type": "markdown",
   "metadata": {},
   "source": [
    "$U'_x =2x \\cdot e^{x^2 + y^2 +z^2}$\n",
    "\n",
    "$U'_y = 2y \\cdot e^{x^2 + y^2 +z^2}$\n",
    "\n",
    "$U'_z = 2z \\cdot e^{x^2 + y^2 +z^2}$\n",
    "\n",
    "$\\mathrm{grad}\\ U = (2x \\cdot e^{x^2 + y^2 +z^2}, 2y \\cdot e^{x^2 + y^2 +z^2}, 2z \\cdot e^{x^2 + y^2 +z^2})$\n",
    "\n",
    "$\\mathrm{grad}\\ U |_{(-16, 4, -13)} = (-32 \\cdot e^{441}, 8 \\cdot e^{441}, -26 \\cdot e^{441})$\n",
    "\n",
    "$|\\vec{d}| = \\sqrt{(4^2) + (-13)^2 + (-16)^2} = 21$\n",
    "\n",
    "$\\vec{d_0} = \\frac{\\vec{d}}{|\\vec{d}|} = (\\frac{4}{21},-\\frac{13}{21}, -\\frac{16}{21})$\n",
    "\n",
    "$\\mathrm{grad}\\ U'\\vec{d}|{(-16, 4, -13)} = e^{441}\\cdot (-32 \\cdot \\frac{4}{21} + 8 \\cdot \\left(-\\frac{13}{21}) + (-26) \\cdot (-\\frac{16}{21})\\right) = \\frac{184}{21} \\cdot e^{441}$"
   ]
  },
  {
   "cell_type": "code",
   "execution_count": null,
   "metadata": {},
   "outputs": [],
   "source": []
  }
 ],
 "metadata": {
  "kernelspec": {
   "display_name": "Python 3",
   "language": "python",
   "name": "python3"
  },
  "language_info": {
   "codemirror_mode": {
    "name": "ipython",
    "version": 3
   },
   "file_extension": ".py",
   "mimetype": "text/x-python",
   "name": "python",
   "nbconvert_exporter": "python",
   "pygments_lexer": "ipython3",
   "version": "3.7.6"
  }
 },
 "nbformat": 4,
 "nbformat_minor": 4
}
